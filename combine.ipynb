{
 "cells": [
  {
   "cell_type": "code",
   "execution_count": 1,
   "id": "5bd48791",
   "metadata": {},
   "outputs": [],
   "source": [
    "import numpy as np\n",
    "import pandas as pd\n",
    "from scipy.stats import rankdata"
   ]
  },
  {
   "cell_type": "code",
   "execution_count": 4,
   "id": "411d1e94",
   "metadata": {},
   "outputs": [],
   "source": [
    "# read in the predictions from fine-tuned ESM2\n",
    "df_esm = pd.read_csv('ESM2_finetuend_predictions.csv')\n",
    "pred_esm = df_esm['DMS_score_predicted']\n",
    "# read in the predictions from ensembled model\n",
    "df_ensb = pd.read_csv('Ensemble_Model_Predictions.csv')\n",
    "pred_ensb = df_ensb['DMS_score_predicted']"
   ]
  },
  {
   "cell_type": "code",
   "execution_count": 5,
   "id": "2ac3af28",
   "metadata": {},
   "outputs": [],
   "source": [
    "# get average rank of two predictions\n",
    "r_esm = rankdata(pred_esm) / len(pred_esm)\n",
    "r_pred_ensb = rankdata(pred_ensb) / len(pred_ensb)\n",
    "final_pred = (r_esm + r_pred_ensb) / 2"
   ]
  },
  {
   "cell_type": "code",
   "execution_count": 6,
   "id": "b5ffc549",
   "metadata": {},
   "outputs": [],
   "source": [
    "combined_df = pd.DataFrame({\n",
    "    'mutant': df_esm['mutant'],\n",
    "    'DMS_score_predicted': final_pred\n",
    "})\n",
    "combined_df.to_csv('predictions.csv',index=False)"
   ]
  },
  {
   "cell_type": "code",
   "execution_count": null,
   "id": "c54811c0",
   "metadata": {},
   "outputs": [],
   "source": []
  }
 ],
 "metadata": {
  "kernelspec": {
   "display_name": "Python3.9(torch)",
   "language": "python",
   "name": "torch"
  },
  "language_info": {
   "codemirror_mode": {
    "name": "ipython",
    "version": 3
   },
   "file_extension": ".py",
   "mimetype": "text/x-python",
   "name": "python",
   "nbconvert_exporter": "python",
   "pygments_lexer": "ipython3",
   "version": "3.9.21"
  }
 },
 "nbformat": 4,
 "nbformat_minor": 5
}
